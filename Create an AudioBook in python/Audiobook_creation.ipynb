{
 "cells": [
  {
   "cell_type": "code",
   "execution_count": 1,
   "metadata": {},
   "outputs": [
    {
     "name": "stdout",
     "output_type": "stream",
     "text": [
      "Collecting PyPDF2\n",
      "  Using cached PyPDF2-2.11.1-py3-none-any.whl (220 kB)\n",
      "Requirement already satisfied: typing-extensions>=3.10.0.0 in c:\\users\\abdul hai\\anaconda3\\lib\\site-packages (from PyPDF2) (4.4.0)\n",
      "Installing collected packages: PyPDF2\n",
      "Successfully installed PyPDF2-2.11.1\n"
     ]
    },
    {
     "name": "stderr",
     "output_type": "stream",
     "text": [
      "WARNING: Ignoring invalid distribution -pencv-python (c:\\users\\abdul hai\\appdata\\roaming\\python\\python38\\site-packages)\n",
      "WARNING: Ignoring invalid distribution -ycodestyle (c:\\users\\abdul hai\\anaconda3\\lib\\site-packages)\n",
      "WARNING: Ignoring invalid distribution -pencv-python (c:\\users\\abdul hai\\appdata\\roaming\\python\\python38\\site-packages)\n",
      "WARNING: Ignoring invalid distribution -ycodestyle (c:\\users\\abdul hai\\anaconda3\\lib\\site-packages)\n",
      "WARNING: Ignoring invalid distribution -pencv-python (c:\\users\\abdul hai\\appdata\\roaming\\python\\python38\\site-packages)\n",
      "WARNING: Ignoring invalid distribution -ycodestyle (c:\\users\\abdul hai\\anaconda3\\lib\\site-packages)\n",
      "WARNING: Ignoring invalid distribution -ycodestyle (c:\\users\\abdul hai\\anaconda3\\lib\\site-packages)\n",
      "WARNING: Ignoring invalid distribution -pencv-python (c:\\users\\abdul hai\\appdata\\roaming\\python\\python38\\site-packages)\n",
      "WARNING: Ignoring invalid distribution -ycodestyle (c:\\users\\abdul hai\\anaconda3\\lib\\site-packages)\n",
      "WARNING: Ignoring invalid distribution -pencv-python (c:\\users\\abdul hai\\appdata\\roaming\\python\\python38\\site-packages)\n",
      "WARNING: Ignoring invalid distribution -ycodestyle (c:\\users\\abdul hai\\anaconda3\\lib\\site-packages)\n",
      "WARNING: Ignoring invalid distribution -pencv-python (c:\\users\\abdul hai\\appdata\\roaming\\python\\python38\\site-packages)\n",
      "WARNING: Ignoring invalid distribution -ycodestyle (c:\\users\\abdul hai\\anaconda3\\lib\\site-packages)\n"
     ]
    },
    {
     "name": "stdout",
     "output_type": "stream",
     "text": [
      "Requirement already satisfied: pyttsx3 in c:\\users\\abdul hai\\anaconda3\\lib\\site-packages (2.90)"
     ]
    },
    {
     "name": "stderr",
     "output_type": "stream",
     "text": [
      "WARNING: Ignoring invalid distribution -pencv-python (c:\\users\\abdul hai\\appdata\\roaming\\python\\python38\\site-packages)\n",
      "WARNING: Ignoring invalid distribution -ycodestyle (c:\\users\\abdul hai\\anaconda3\\lib\\site-packages)\n",
      "WARNING: Ignoring invalid distribution -pencv-python (c:\\users\\abdul hai\\appdata\\roaming\\python\\python38\\site-packages)\n",
      "WARNING: Ignoring invalid distribution -ycodestyle (c:\\users\\abdul hai\\anaconda3\\lib\\site-packages)\n",
      "WARNING: Ignoring invalid distribution -pencv-python (c:\\users\\abdul hai\\appdata\\roaming\\python\\python38\\site-packages)\n",
      "WARNING: Ignoring invalid distribution -ycodestyle (c:\\users\\abdul hai\\anaconda3\\lib\\site-packages)\n",
      "WARNING: Ignoring invalid distribution -pencv-python (c:\\users\\abdul hai\\appdata\\roaming\\python\\python38\\site-packages)\n",
      "WARNING: Ignoring invalid distribution -ycodestyle (c:\\users\\abdul hai\\anaconda3\\lib\\site-packages)\n",
      "WARNING: Ignoring invalid distribution -pencv-python (c:\\users\\abdul hai\\appdata\\roaming\\python\\python38\\site-packages)\n",
      "WARNING: Ignoring invalid distribution -ycodestyle (c:\\users\\abdul hai\\anaconda3\\lib\\site-packages)\n",
      "WARNING: Ignoring invalid distribution -pencv-python (c:\\users\\abdul hai\\appdata\\roaming\\python\\python38\\site-packages)\n",
      "WARNING: Ignoring invalid distribution -ycodestyle (c:\\users\\abdul hai\\anaconda3\\lib\\site-packages)\n"
     ]
    },
    {
     "name": "stdout",
     "output_type": "stream",
     "text": [
      "\n",
      "Requirement already satisfied: pypiwin32 in c:\\users\\abdul hai\\anaconda3\\lib\\site-packages (from pyttsx3) (223)\n",
      "Requirement already satisfied: pywin32 in c:\\users\\abdul hai\\anaconda3\\lib\\site-packages (from pyttsx3) (227)\n",
      "Requirement already satisfied: comtypes in c:\\users\\abdul hai\\anaconda3\\lib\\site-packages (from pyttsx3) (1.1.9)\n"
     ]
    }
   ],
   "source": [
    "!pip install PyPDF2\n",
    "!pip install pyttsx3"
   ]
  },
  {
   "cell_type": "code",
   "execution_count": 3,
   "metadata": {},
   "outputs": [],
   "source": [
    "import PyPDF2\n",
    "import pyttsx3\n",
    "\n",
    "# read the pdf by specifying the path in your computer\n",
    "pdfReader = PyPDF2.PdfFileReader(open('Rolling-Unrolling LSTMs for Action Anticipation from First-Person Video.pdf', 'rb'))\n",
    "\n",
    "# get the handle to speaker\n",
    "speaker = pyttsx3.init()\n",
    "\n",
    "# split the pages and read one by one\n",
    "for page_num in range(pdfReader.numPages):\n",
    "    text = pdfReader.getPage(page_num).extractText()\n",
    "    speaker.say(text)\n",
    "    speaker.runAndWait()\n",
    "    \n",
    "# stop the speaker after completion\n",
    "speaker.stop()\n",
    "\n",
    "# save the audiobook at specified path\n",
    "engine.save_to_file(text, 'audio.mp3')\n",
    "engine.runAndWait()"
   ]
  },
  {
   "cell_type": "code",
   "execution_count": null,
   "metadata": {},
   "outputs": [],
   "source": []
  }
 ],
 "metadata": {
  "kernelspec": {
   "display_name": "Python 3.8.8 ('base')",
   "language": "python",
   "name": "python3"
  },
  "language_info": {
   "codemirror_mode": {
    "name": "ipython",
    "version": 3
   },
   "file_extension": ".py",
   "mimetype": "text/x-python",
   "name": "python",
   "nbconvert_exporter": "python",
   "pygments_lexer": "ipython3",
   "version": "3.8.8"
  },
  "orig_nbformat": 4,
  "vscode": {
   "interpreter": {
    "hash": "29dadc31592bec7fa1dd61b19a89769650fb88753ade784477ad8de23c903585"
   }
  }
 },
 "nbformat": 4,
 "nbformat_minor": 2
}
