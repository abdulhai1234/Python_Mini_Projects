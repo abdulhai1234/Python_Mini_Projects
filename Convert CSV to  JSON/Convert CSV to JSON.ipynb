{
 "cells": [
  {
   "cell_type": "code",
   "execution_count": 3,
   "metadata": {},
   "outputs": [
    {
     "name": "stdout",
     "output_type": "stream",
     "text": [
      "   Impressions  Home  Hastags   Explore  Other  Saves\n",
      "0         3920  2586     1028       619     56     98\n",
      "1         5394  2727     1894      1178     78    194\n",
      "2         2345  2346     1367      2345     12    634\n",
      "3         4231  6345     1235      1465    324    346\n",
      "Converted JSON File Below :\n",
      "[[\"Impressions\", \"Home\", \"Hastags\", \" Explore\", \"Other\", \"Saves\"], [\"3920\", \"2586\", \"1028\", \"619\", \"56\", \"98\"], [\"5394\", \"2727\", \"1894\", \"1178\", \"78\", \"194\"], [\"2345\", \"2346\", \"1367\", \"2345\", \"12\", \"634\"], [\"4231\", \"6345\", \"1235\", \"1465\", \"324\", \"346\"]]\n"
     ]
    }
   ],
   "source": [
    "import pandas as pd, csv, json # multiple libraries using a single import\n",
    "\n",
    "# reading csv file\n",
    "data = pd.read_csv('Instagram.csv')\n",
    "print(data)\n",
    "\n",
    "# converting CSV to JSON\n",
    "print('Converted JSON File Below :')\n",
    "print(json.dumps(list(csv.reader(open('Instagram.csv')))))\n"
   ]
  }
 ],
 "metadata": {
  "kernelspec": {
   "display_name": "Python ('mini')",
   "language": "python",
   "name": "python3"
  },
  "language_info": {
   "codemirror_mode": {
    "name": "ipython",
    "version": 3
   },
   "file_extension": ".py",
   "mimetype": "text/x-python",
   "name": "python",
   "nbconvert_exporter": "python",
   "pygments_lexer": "ipython3",
   "version": ""
  },
  "orig_nbformat": 4,
  "vscode": {
   "interpreter": {
    "hash": "25a19fbe0a9132dfb9279d48d161753c6352f8f9478c2e74383d340069b907c3"
   }
  }
 },
 "nbformat": 4,
 "nbformat_minor": 2
}
