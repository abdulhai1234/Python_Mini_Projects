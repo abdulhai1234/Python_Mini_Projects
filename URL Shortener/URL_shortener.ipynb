{
 "cells": [
  {
   "cell_type": "code",
   "execution_count": 2,
   "metadata": {},
   "outputs": [
    {
     "name": "stdout",
     "output_type": "stream",
     "text": [
      "Collecting pyshorteners\n",
      "  Downloading pyshorteners-1.0.1.tar.gz (10.0 kB)\n",
      "  Preparing metadata (setup.py): started"
     ]
    },
    {
     "name": "stderr",
     "output_type": "stream",
     "text": [
      "WARNING: Ignoring invalid distribution -pencv-python (c:\\users\\abdul hai\\appdata\\roaming\\python\\python38\\site-packages)\n",
      "WARNING: Ignoring invalid distribution -ycodestyle (c:\\users\\abdul hai\\anaconda3\\lib\\site-packages)\n",
      "WARNING: Ignoring invalid distribution -pencv-python (c:\\users\\abdul hai\\appdata\\roaming\\python\\python38\\site-packages)\n",
      "WARNING: Ignoring invalid distribution -ycodestyle (c:\\users\\abdul hai\\anaconda3\\lib\\site-packages)\n",
      "WARNING: Ignoring invalid distribution -pencv-python (c:\\users\\abdul hai\\appdata\\roaming\\python\\python38\\site-packages)\n",
      "WARNING: Ignoring invalid distribution -ycodestyle (c:\\users\\abdul hai\\anaconda3\\lib\\site-packages)\n",
      "WARNING: Ignoring invalid distribution -ycodestyle (c:\\users\\abdul hai\\anaconda3\\lib\\site-packages)\n",
      "WARNING: Ignoring invalid distribution -pencv-python (c:\\users\\abdul hai\\appdata\\roaming\\python\\python38\\site-packages)\n",
      "WARNING: Ignoring invalid distribution -ycodestyle (c:\\users\\abdul hai\\anaconda3\\lib\\site-packages)\n",
      "WARNING: Ignoring invalid distribution -pencv-python (c:\\users\\abdul hai\\appdata\\roaming\\python\\python38\\site-packages)\n",
      "WARNING: Ignoring invalid distribution -ycodestyle (c:\\users\\abdul hai\\anaconda3\\lib\\site-packages)\n",
      "WARNING: Ignoring invalid distribution -pencv-python (c:\\users\\abdul hai\\appdata\\roaming\\python\\python38\\site-packages)\n",
      "WARNING: Ignoring invalid distribution -ycodestyle (c:\\users\\abdul hai\\anaconda3\\lib\\site-packages)\n"
     ]
    },
    {
     "name": "stdout",
     "output_type": "stream",
     "text": [
      "\n",
      "  Preparing metadata (setup.py): finished with status 'done'\n",
      "Requirement already satisfied: requests in c:\\users\\abdul hai\\anaconda3\\lib\\site-packages (from pyshorteners) (2.25.1)\n",
      "Requirement already satisfied: idna<3,>=2.5 in c:\\users\\abdul hai\\anaconda3\\lib\\site-packages (from requests->pyshorteners) (2.10)\n",
      "Requirement already satisfied: chardet<5,>=3.0.2 in c:\\users\\abdul hai\\anaconda3\\lib\\site-packages (from requests->pyshorteners) (4.0.0)\n",
      "Requirement already satisfied: certifi>=2017.4.17 in c:\\users\\abdul hai\\anaconda3\\lib\\site-packages (from requests->pyshorteners) (2020.12.5)\n",
      "Requirement already satisfied: urllib3<1.27,>=1.21.1 in c:\\users\\abdul hai\\anaconda3\\lib\\site-packages (from requests->pyshorteners) (1.26.4)\n",
      "Building wheels for collected packages: pyshorteners\n",
      "  Building wheel for pyshorteners (setup.py): started\n",
      "  Building wheel for pyshorteners (setup.py): finished with status 'done'\n",
      "  Created wheel for pyshorteners: filename=pyshorteners-1.0.1-py3-none-any.whl size=17499 sha256=c1568353a9ea7394bace43ae621151a58d3b57c0c4d6047344f3a2ff7427018f\n",
      "  Stored in directory: c:\\users\\abdul hai\\appdata\\local\\pip\\cache\\wheels\\3e\\d2\\1f\\f7b6dffc5daec5089cf92ecfd32fa9784775b869f6c057b5d0\n",
      "Successfully built pyshorteners\n",
      "Installing collected packages: pyshorteners\n",
      "Successfully installed pyshorteners-1.0.1\n"
     ]
    }
   ],
   "source": [
    "# pyshorteners installaiton\n",
    "!pip install pyshorteners"
   ]
  },
  {
   "cell_type": "code",
   "execution_count": 4,
   "metadata": {},
   "outputs": [
    {
     "name": "stdout",
     "output_type": "stream",
     "text": [
      "The shortened URL is: https://tinyurl.com/y7n6dq4s\n"
     ]
    }
   ],
   "source": [
    "import pyshorteners\n",
    "long_url = input('Enter the URL to shorten: ')\n",
    "\n",
    "# tinyURL shortener service\n",
    "type_tiny = pyshorteners.Shortener()\n",
    "short_url = type_tiny.tinyurl.short(long_url)\n",
    "\n",
    "print('The shortened URL is: '+ short_url)"
   ]
  },
  {
   "cell_type": "code",
   "execution_count": null,
   "metadata": {},
   "outputs": [],
   "source": []
  }
 ],
 "metadata": {
  "kernelspec": {
   "display_name": "Python 3.8.8 ('base')",
   "language": "python",
   "name": "python3"
  },
  "language_info": {
   "codemirror_mode": {
    "name": "ipython",
    "version": 3
   },
   "file_extension": ".py",
   "mimetype": "text/x-python",
   "name": "python",
   "nbconvert_exporter": "python",
   "pygments_lexer": "ipython3",
   "version": "3.8.8"
  },
  "orig_nbformat": 4,
  "vscode": {
   "interpreter": {
    "hash": "29dadc31592bec7fa1dd61b19a89769650fb88753ade784477ad8de23c903585"
   }
  }
 },
 "nbformat": 4,
 "nbformat_minor": 2
}
