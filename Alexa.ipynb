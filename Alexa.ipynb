{
 "cells": [
  {
   "cell_type": "markdown",
   "metadata": {},
   "source": [
    "##### Import relevent packages"
   ]
  },
  {
   "cell_type": "code",
   "execution_count": 19,
   "metadata": {},
   "outputs": [],
   "source": [
    "import speech_recognition as sr\n",
    "import pyttsx3\n",
    "import pywhatkit\n",
    "import datetime\n",
    "import wikipedia\n",
    "import pyjokes"
   ]
  },
  {
   "cell_type": "code",
   "execution_count": 20,
   "metadata": {},
   "outputs": [],
   "source": [
    "# speech recognizer listener\n",
    "listener = sr.Recognizer()\n",
    "\n",
    "# text to speach engine\n",
    "engine = pyttsx3.init()\n",
    "voices = engine.getProperty('voices')\n",
    "engine.setProperty('voice', voices[1].id)"
   ]
  },
  {
   "cell_type": "code",
   "execution_count": 21,
   "metadata": {},
   "outputs": [],
   "source": [
    "# converting text to speach\n",
    "def talk(text):\n",
    "    engine.say(text)\n",
    "    engine.runAndWait()\n",
    "\n",
    "# listening to the user command\n",
    "def take_command():\n",
    "    command = ''\n",
    "    try:\n",
    "        with sr.Microphone() as source:\n",
    "            print('Listening ......')\n",
    "            listener.adjust_for_ambient_noise(source)\n",
    "            voice= listener.listen(source, phrase_time_limit = 3)\n",
    "            command = listener.recognize_google(voice)\n",
    "            command = command.lower()\n",
    "            if 'alexa' == command:\n",
    "                command = command.replace('alexa','')\n",
    "            print(command)\n",
    "    except:\n",
    "        pass\n",
    "    return command\n",
    "\n",
    "# some constraints to alexa\n",
    "def run_alexa(command):\n",
    "    if 'play' in command:\n",
    "        song = command.replace('play','')\n",
    "        talk('playing'+song)\n",
    "        pywhatkit.playonyt(song)\n",
    "    elif 'time' in command:\n",
    "        time = datetime.datetime.now().strftime('%I:%M %p')\n",
    "        print(time)\n",
    "        talk(\"current time is:\"+time)\n",
    "    elif 'who is' in command:\n",
    "        person = command.replace('who is','')\n",
    "        info = wikipedia.summary(person,1)\n",
    "        print(info)\n",
    "        talk(info)\n",
    "    elif 'amjad'in command:\n",
    "        talk(\"Abdul Hai's best freind\")\n",
    "    elif 'joke' in command:\n",
    "        talk(pyjokes.get_joke())\n",
    "    else:\n",
    "        talk('pleas say the command again')\n"
   ]
  },
  {
   "cell_type": "code",
   "execution_count": 22,
   "metadata": {},
   "outputs": [
    {
     "name": "stdout",
     "output_type": "stream",
     "text": [
      "Listening ......\n",
      "alexa who is a\n",
      "Alexa Internet, Inc.\n",
      "Listening ......\n",
      "tell me a\n",
      "Listening ......\n",
      "amjad\n",
      "Listening ......\n",
      "shutdown\n"
     ]
    }
   ],
   "source": [
    "# start alexa until getting shutdown command from the user\n",
    "repeat = True\n",
    "while repeat:\n",
    "    command = take_command()\n",
    "    if 'shutdown' in command:\n",
    "        repeat = False\n",
    "    else:\n",
    "        run_alexa(command)"
   ]
  },
  {
   "cell_type": "code",
   "execution_count": 83,
   "metadata": {},
   "outputs": [
    {
     "name": "stdout",
     "output_type": "stream",
     "text": [
      "Speak Please\n",
      "Converting speech to text....\n",
      "You said: hello how are you\n"
     ]
    }
   ],
   "source": [
    "# converting speech to text from live mic\n",
    "def live_mice():\n",
    "    mic = sr.Microphone()\n",
    "    with mic as audio_file:\n",
    "        print(\"Speak Please\")\n",
    "        listener.adjust_for_ambient_noise(audio_file)\n",
    "        audio = listener.listen(audio_file)\n",
    "        print(\"Converting speech to text....\")\n",
    "        print(\"You said: \"+ listener.recognize_google(audio))\n",
    "live_mice()"
   ]
  }
 ],
 "metadata": {
  "kernelspec": {
   "display_name": "Python ('mini')",
   "language": "python",
   "name": "python3"
  },
  "language_info": {
   "codemirror_mode": {
    "name": "ipython",
    "version": 3
   },
   "file_extension": ".py",
   "mimetype": "text/x-python",
   "name": "python",
   "nbconvert_exporter": "python",
   "pygments_lexer": "ipython3",
   "version": "3.8.8"
  },
  "orig_nbformat": 4,
  "vscode": {
   "interpreter": {
    "hash": "25a19fbe0a9132dfb9279d48d161753c6352f8f9478c2e74383d340069b907c3"
   }
  }
 },
 "nbformat": 4,
 "nbformat_minor": 2
}
