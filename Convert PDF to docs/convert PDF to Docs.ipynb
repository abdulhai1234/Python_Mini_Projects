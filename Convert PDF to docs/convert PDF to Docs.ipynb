{
 "cells": [
  {
   "cell_type": "code",
   "execution_count": 3,
   "metadata": {},
   "outputs": [
    {
     "name": "stdout",
     "output_type": "stream",
     "text": [
      "Requirement already satisfied: pdf2docx in c:\\users\\abdul hai\\appdata\\local\\programs\\python\\python39\\lib\\site-packages (0.5.6)\n",
      "Requirement already satisfied: numpy>=1.17.2 in c:\\users\\abdul hai\\appdata\\local\\programs\\python\\python39\\lib\\site-packages (from pdf2docx) (1.23.4)\n",
      "Requirement already satisfied: python-docx>=0.8.10 in c:\\users\\abdul hai\\appdata\\local\\programs\\python\\python39\\lib\\site-packages (from pdf2docx) (0.8.11)\n",
      "Requirement already satisfied: PyMuPDF>=1.19.0 in c:\\users\\abdul hai\\appdata\\local\\programs\\python\\python39\\lib\\site-packages (from pdf2docx) (1.20.2)\n",
      "Requirement already satisfied: opencv-python>=4.5 in c:\\users\\abdul hai\\appdata\\local\\programs\\python\\python39\\lib\\site-packages (from pdf2docx) (4.6.0.66)\n",
      "Requirement already satisfied: fire>=0.3.0 in c:\\users\\abdul hai\\appdata\\local\\programs\\python\\python39\\lib\\site-packages (from pdf2docx) (0.4.0)\n",
      "Requirement already satisfied: fonttools>=4.24.0 in c:\\users\\abdul hai\\appdata\\local\\programs\\python\\python39\\lib\\site-packages (from pdf2docx) (4.38.0)\n",
      "Requirement already satisfied: termcolor in c:\\users\\abdul hai\\appdata\\local\\programs\\python\\python39\\lib\\site-packages (from fire>=0.3.0->pdf2docx) (2.0.1)\n",
      "Requirement already satisfied: six in c:\\users\\abdul hai\\appdata\\local\\programs\\python\\python39\\lib\\site-packages (from fire>=0.3.0->pdf2docx) (1.16.0)\n",
      "Requirement already satisfied: lxml>=2.3.2 in c:\\users\\abdul hai\\appdata\\local\\programs\\python\\python39\\lib\\site-packages (from python-docx>=0.8.10->pdf2docx) (4.9.1)\n"
     ]
    }
   ],
   "source": [
    "# pdf2docx package installation\n",
    "!pip install pdf2docx"
   ]
  },
  {
   "cell_type": "code",
   "execution_count": 4,
   "metadata": {},
   "outputs": [
    {
     "name": "stderr",
     "output_type": "stream",
     "text": [
      "[INFO] Start to convert Rolling-Unrolling LSTMs for Action Anticipation from First-Person Video.pdf\n",
      "[INFO] \u001b[1;36m[1/4] Opening document...\u001b[0m\n",
      "[INFO] \u001b[1;36m[2/4] Analyzing document...\u001b[0m\n",
      "[WARNING] Ignore Line \"𝛼\" due to overlap\n",
      "[WARNING] Ignore Line \"t\" due to overlap\n",
      "[WARNING] Ignore Line \"m\" due to overlap\n",
      "[WARNING] Ignore Line \"i\" due to overlap\n",
      "[WARNING] Ignore Line \"t\" due to overlap\n",
      "[INFO] \u001b[1;36m[3/4] Parsing pages...\u001b[0m\n",
      "[INFO] (1/20) Page 1\n",
      "[INFO] (2/20) Page 2\n",
      "[INFO] (3/20) Page 3\n",
      "[INFO] (4/20) Page 4\n",
      "[INFO] (5/20) Page 5\n",
      "[INFO] (6/20) Page 6\n",
      "[INFO] (7/20) Page 7\n",
      "[INFO] (8/20) Page 8\n",
      "[INFO] (9/20) Page 9\n",
      "[INFO] (10/20) Page 10\n",
      "[INFO] (11/20) Page 11\n",
      "[INFO] (12/20) Page 12\n",
      "[INFO] (13/20) Page 13\n",
      "[INFO] (14/20) Page 14\n",
      "[INFO] (15/20) Page 15\n",
      "[INFO] (16/20) Page 16\n",
      "[INFO] (17/20) Page 17\n",
      "[INFO] (18/20) Page 18\n",
      "[INFO] (19/20) Page 19\n",
      "[INFO] (20/20) Page 20\n",
      "[INFO] \u001b[1;36m[4/4] Creating pages...\u001b[0m\n",
      "[INFO] (1/20) Page 1\n",
      "[INFO] (2/20) Page 2\n",
      "[INFO] (3/20) Page 3\n",
      "[INFO] (4/20) Page 4\n",
      "[INFO] (5/20) Page 5\n",
      "[INFO] (6/20) Page 6\n",
      "[INFO] (7/20) Page 7\n",
      "[INFO] (8/20) Page 8\n",
      "[INFO] (9/20) Page 9\n",
      "[INFO] (10/20) Page 10\n",
      "[INFO] (11/20) Page 11\n",
      "[INFO] (12/20) Page 12\n",
      "[INFO] (13/20) Page 13\n",
      "[INFO] (14/20) Page 14\n",
      "[INFO] (15/20) Page 15\n",
      "[INFO] (16/20) Page 16\n",
      "[INFO] (17/20) Page 17\n",
      "[INFO] (18/20) Page 18\n",
      "[INFO] (19/20) Page 19\n",
      "[INFO] (20/20) Page 20\n",
      "[INFO] Terminated in 117.99s.\n"
     ]
    }
   ],
   "source": [
    "from pdf2docx import Converter\n",
    "\n",
    "# pdf file path\n",
    "pdf_file = \"Rolling-Unrolling LSTMs for Action Anticipation from First-Person Video.pdf\"\n",
    "\n",
    "# name of the file to be saved after file convertion from pdf to docx\n",
    "docx_file = 'Rolling-Unrolling LSTMs for Action Anticipation from First-Person Video.docx'\n",
    "\n",
    "# pdf to docx conversin\n",
    "cv = Converter(pdf_file)\n",
    "cv.convert(docx_file)\n",
    "cv.close()\n"
   ]
  },
  {
   "cell_type": "code",
   "execution_count": null,
   "metadata": {},
   "outputs": [],
   "source": []
  }
 ],
 "metadata": {
  "kernelspec": {
   "display_name": "Python ('mini')",
   "language": "python",
   "name": "python3"
  },
  "language_info": {
   "codemirror_mode": {
    "name": "ipython",
    "version": 3
   },
   "file_extension": ".py",
   "mimetype": "text/x-python",
   "name": "python",
   "nbconvert_exporter": "python",
   "pygments_lexer": "ipython3",
   "version": "3.9.6"
  },
  "orig_nbformat": 4,
  "vscode": {
   "interpreter": {
    "hash": "25a19fbe0a9132dfb9279d48d161753c6352f8f9478c2e74383d340069b907c3"
   }
  }
 },
 "nbformat": 4,
 "nbformat_minor": 2
}
