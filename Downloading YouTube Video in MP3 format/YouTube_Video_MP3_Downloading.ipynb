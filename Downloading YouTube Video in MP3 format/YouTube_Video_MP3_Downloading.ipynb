{
 "cells": [
  {
   "cell_type": "code",
   "execution_count": 7,
   "metadata": {},
   "outputs": [
    {
     "name": "stdout",
     "output_type": "stream",
     "text": [
      "Requirement already satisfied: pytube in c:\\users\\abdul hai\\appdata\\local\\programs\\python\\python39\\lib\\site-packages (12.1.0)\n"
     ]
    }
   ],
   "source": [
    "# install packages\n",
    "!pip install pytube"
   ]
  },
  {
   "cell_type": "code",
   "execution_count": 14,
   "metadata": {},
   "outputs": [
    {
     "name": "stdout",
     "output_type": "stream",
     "text": [
      "Enter the destination (Leave blank for current directory)\n",
      "Yaqeen kasy hota hai || motivational session by sheikh atif ahmed || new speech by shaykh atif ahmed has been successfully downloaded in .mp3 format.\n"
     ]
    }
   ],
   "source": [
    "# we are going to download youtube videos and extracty audios from it\n",
    "# importing packages\n",
    "from pytube import YouTube\n",
    "import os\n",
    "\n",
    "# url input from the user\n",
    "yt = YouTube(str(input(\"Enter the URl of the video you want to download: \\n>> \")))\n",
    "\n",
    "# extract only audio\n",
    "video = yt.streams.filter(only_audio = True).first()\n",
    "\n",
    "# check your destination to save4 file\n",
    "print(\"Enter the destination (Leave blank for current directory)\")\n",
    "destination = str(input(\">> \")) or '.'\n",
    "\n",
    "# download the file\n",
    "out_file = video.download(output_path = destination)\n",
    "\n",
    "# save the file\n",
    "base, ext = os.path.splitext(out_file)\n",
    "new_file = base + '.mp3'\n",
    "os.rename(out_file, new_file)\n",
    "\n",
    "# result of success\n",
    "print(yt.title + \" has been successfully downloaded in .mp3 format.\")"
   ]
  },
  {
   "cell_type": "code",
   "execution_count": null,
   "metadata": {},
   "outputs": [],
   "source": []
  }
 ],
 "metadata": {
  "kernelspec": {
   "display_name": "Python ('mini')",
   "language": "python",
   "name": "python3"
  },
  "language_info": {
   "codemirror_mode": {
    "name": "ipython",
    "version": 3
   },
   "file_extension": ".py",
   "mimetype": "text/x-python",
   "name": "python",
   "nbconvert_exporter": "python",
   "pygments_lexer": "ipython3",
   "version": "3.9.6"
  },
  "orig_nbformat": 4,
  "vscode": {
   "interpreter": {
    "hash": "25a19fbe0a9132dfb9279d48d161753c6352f8f9478c2e74383d340069b907c3"
   }
  }
 },
 "nbformat": 4,
 "nbformat_minor": 2
}
